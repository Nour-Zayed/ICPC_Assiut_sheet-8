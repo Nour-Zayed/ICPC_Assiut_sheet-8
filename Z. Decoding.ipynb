{
 "cells": [
  {
   "cell_type": "code",
   "execution_count": 27,
   "id": "c6517623-1397-4e9c-ae12-6b170610e4d8",
   "metadata": {},
   "outputs": [
    {
     "name": "stdin",
     "output_type": "stream",
     "text": [
      " 4\n",
      " abba\n"
     ]
    },
    {
     "name": "stdout",
     "output_type": "stream",
     "text": [
      "baba\n"
     ]
    }
   ],
   "source": [
    "n=int(input())\n",
    "\n",
    "x=input().strip()\n",
    "\n",
    "result=\"\"\n",
    "i = 0\n",
    "while (n):\n",
    "    if n % 2 == 0:\n",
    "        result =x[i]+result\n",
    "    else:\n",
    "        result = result + x[i]\n",
    "    i +=1\n",
    "    n -=1\n",
    "print(result)\n",
    "    "
   ]
  },
  {
   "cell_type": "code",
   "execution_count": null,
   "id": "f92fa333-b67b-40c4-a3ef-8738f14bd0a2",
   "metadata": {},
   "outputs": [],
   "source": []
  }
 ],
 "metadata": {
  "kernelspec": {
   "display_name": "Python 3 (ipykernel)",
   "language": "python",
   "name": "python3"
  },
  "language_info": {
   "codemirror_mode": {
    "name": "ipython",
    "version": 3
   },
   "file_extension": ".py",
   "mimetype": "text/x-python",
   "name": "python",
   "nbconvert_exporter": "python",
   "pygments_lexer": "ipython3",
   "version": "3.11.5"
  }
 },
 "nbformat": 4,
 "nbformat_minor": 5
}
