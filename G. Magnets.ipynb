{
 "cells": [
  {
   "cell_type": "code",
   "execution_count": 1,
   "id": "e703b299-6877-4751-841d-b95cbd56517d",
   "metadata": {},
   "outputs": [
    {
     "name": "stdin",
     "output_type": "stream",
     "text": [
      " 3\n",
      " 10\n",
      " 11\n",
      " 01\n"
     ]
    }
   ],
   "source": [
    "x=int( input())\n",
    "for _ in range(x):\n",
    "    a =int(input())\n"
   ]
  },
  {
   "cell_type": "code",
   "execution_count": 3,
   "id": "07cf9020-e379-40d8-8641-c3fe5964e101",
   "metadata": {},
   "outputs": [
    {
     "name": "stdin",
     "output_type": "stream",
     "text": [
      " 5\n",
      " 10\n",
      " 10\n",
      " 01\n",
      " 10\n",
      " 01\n"
     ]
    },
    {
     "name": "stdout",
     "output_type": "stream",
     "text": [
      "4\n"
     ]
    }
   ],
   "source": [
    "n = int(input().strip()) \n",
    "magnet = input().strip()  \n",
    "num_groups = 1  \n",
    "\n",
    "for _ in range(1, n):\n",
    "    current_magnet = input().strip()  \n",
    "    if current_magnet != magnet:  \n",
    "        num_groups += 1  \n",
    "    magnet = current_magnet  \n",
    "\n",
    "print(num_groups) \n"
   ]
  },
  {
   "cell_type": "code",
   "execution_count": null,
   "id": "409df202-12f6-4bc6-a990-05de3dc0e6d5",
   "metadata": {},
   "outputs": [],
   "source": []
  }
 ],
 "metadata": {
  "kernelspec": {
   "display_name": "Python 3 (ipykernel)",
   "language": "python",
   "name": "python3"
  },
  "language_info": {
   "codemirror_mode": {
    "name": "ipython",
    "version": 3
   },
   "file_extension": ".py",
   "mimetype": "text/x-python",
   "name": "python",
   "nbconvert_exporter": "python",
   "pygments_lexer": "ipython3",
   "version": "3.11.5"
  }
 },
 "nbformat": 4,
 "nbformat_minor": 5
}
