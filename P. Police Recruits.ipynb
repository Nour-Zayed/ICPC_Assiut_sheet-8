{
 "cells": [
  {
   "cell_type": "code",
   "execution_count": 15,
   "id": "085e8fdf-0ed7-4204-a7fa-0f6eda225bb6",
   "metadata": {},
   "outputs": [
    {
     "name": "stdin",
     "output_type": "stream",
     "text": [
      " 8\n",
      "  1 -1 1 -1 -1 1 1 1\n"
     ]
    },
    {
     "name": "stdout",
     "output_type": "stream",
     "text": [
      "1\n"
     ]
    }
   ],
   "source": [
    "x=int(input())\n",
    "\n",
    "arr=map(int,input().split())\n",
    "count =0\n",
    "officers = 0\n",
    "for i in arr:\n",
    "    if arr == -1:\n",
    "        if officers > 0:\n",
    "            officers -=1\n",
    "        else:\n",
    "            untreated +=1\n",
    "    else:\n",
    "        officers += i\n",
    "print(untreated)        \n",
    "        \n",
    "\n",
    "\n",
    "\n"
   ]
  },
  {
   "cell_type": "code",
   "execution_count": null,
   "id": "84a8e55e-40cc-4198-9bce-339a4d515abc",
   "metadata": {},
   "outputs": [],
   "source": []
  }
 ],
 "metadata": {
  "kernelspec": {
   "display_name": "Python 3 (ipykernel)",
   "language": "python",
   "name": "python3"
  },
  "language_info": {
   "codemirror_mode": {
    "name": "ipython",
    "version": 3
   },
   "file_extension": ".py",
   "mimetype": "text/x-python",
   "name": "python",
   "nbconvert_exporter": "python",
   "pygments_lexer": "ipython3",
   "version": "3.11.5"
  }
 },
 "nbformat": 4,
 "nbformat_minor": 5
}
