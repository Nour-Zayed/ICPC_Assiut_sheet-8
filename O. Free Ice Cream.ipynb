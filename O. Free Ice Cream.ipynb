{
 "cells": [
  {
   "cell_type": "code",
   "execution_count": 13,
   "id": "813096e3-d7e5-49d0-8516-6d64b876e39e",
   "metadata": {},
   "outputs": [
    {
     "name": "stdin",
     "output_type": "stream",
     "text": [
      " 5 7\n",
      " + 5\n",
      " - 10\n",
      " - 20\n",
      " + 40\n",
      " - 20\n"
     ]
    },
    {
     "name": "stdout",
     "output_type": "stream",
     "text": [
      "22 1\n"
     ]
    }
   ],
   "source": [
    "n, x = map(int, input().split())\n",
    "count = 0\n",
    "\n",
    "for i in range(n):\n",
    "    operation = input().split()  \n",
    "    sign = operation[0]\n",
    "    value = int(operation[1])\n",
    "    \n",
    "    if sign == '+':\n",
    "        x += value\n",
    "    elif sign == '-':\n",
    "        if value <= x:\n",
    "            x -= value\n",
    "        else:\n",
    "            count += 1\n",
    "\n",
    "print(x, count)\n",
    "\n"
   ]
  },
  {
   "cell_type": "code",
   "execution_count": null,
   "id": "25085fd3-fd60-4e76-bae3-38d57364cf49",
   "metadata": {},
   "outputs": [],
   "source": []
  }
 ],
 "metadata": {
  "kernelspec": {
   "display_name": "Python 3 (ipykernel)",
   "language": "python",
   "name": "python3"
  },
  "language_info": {
   "codemirror_mode": {
    "name": "ipython",
    "version": 3
   },
   "file_extension": ".py",
   "mimetype": "text/x-python",
   "name": "python",
   "nbconvert_exporter": "python",
   "pygments_lexer": "ipython3",
   "version": "3.11.5"
  }
 },
 "nbformat": 4,
 "nbformat_minor": 5
}
