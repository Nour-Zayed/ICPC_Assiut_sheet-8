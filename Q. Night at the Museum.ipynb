{
 "cells": [
  {
   "cell_type": "code",
   "execution_count": 3,
   "id": "04821057-be25-4be5-84e4-4a2183f4d45e",
   "metadata": {},
   "outputs": [
    {
     "name": "stdin",
     "output_type": "stream",
     "text": [
      " map\n"
     ]
    },
    {
     "name": "stdout",
     "output_type": "stream",
     "text": [
      "35\n"
     ]
    }
   ],
   "source": [
    "def min_rotations(name):\n",
    "    current_position = 'a'\n",
    "    total_rotations = 0\n",
    "    \n",
    "    for char in name:\n",
    "        clockwise_distance = abs(ord(current_position) - ord(char))\n",
    "        counterclockwise_distance = 26 - clockwise_distance\n",
    "        total_rotations += min(clockwise_distance, counterclockwise_distance)\n",
    "        current_position = char\n",
    "    \n",
    "    return total_rotations\n",
    "\n",
    "name = input()\n",
    "print(min_rotations(name))\n"
   ]
  },
  {
   "cell_type": "code",
   "execution_count": null,
   "id": "1c382a8f-d6d5-447c-ba99-3ff5c824ab78",
   "metadata": {},
   "outputs": [],
   "source": []
  }
 ],
 "metadata": {
  "kernelspec": {
   "display_name": "Python 3 (ipykernel)",
   "language": "python",
   "name": "python3"
  },
  "language_info": {
   "codemirror_mode": {
    "name": "ipython",
    "version": 3
   },
   "file_extension": ".py",
   "mimetype": "text/x-python",
   "name": "python",
   "nbconvert_exporter": "python",
   "pygments_lexer": "ipython3",
   "version": "3.11.5"
  }
 },
 "nbformat": 4,
 "nbformat_minor": 5
}
