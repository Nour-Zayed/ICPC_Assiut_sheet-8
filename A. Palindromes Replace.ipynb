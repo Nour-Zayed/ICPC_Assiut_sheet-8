{
 "cells": [
  {
   "cell_type": "code",
   "execution_count": 6,
   "id": "f429faac-ad0b-4fc3-9ec0-aaec8da34061",
   "metadata": {},
   "outputs": [
    {
     "name": "stdin",
     "output_type": "stream",
     "text": [
      " a?z?\n"
     ]
    },
    {
     "name": "stdout",
     "output_type": "stream",
     "text": [
      "Object `=s` not found.\n"
     ]
    }
   ],
   "source": [
    "s=input()\n",
    "\n",
    "if s==s[ :: -1]  and  '?' not in s:\n",
    "    print(s)\n",
    "else:\n",
    "    ?=s\n",
    "    \n",
    "    \n",
    "\n"
   ]
  },
  {
   "cell_type": "code",
   "execution_count": 26,
   "id": "e5235464-d426-446e-8b60-9e9bf932174b",
   "metadata": {},
   "outputs": [
    {
     "name": "stdin",
     "output_type": "stream",
     "text": [
      " a?z?\n"
     ]
    },
    {
     "name": "stdout",
     "output_type": "stream",
     "text": [
      "azza\n"
     ]
    }
   ],
   "source": [
    "def make_smallest_palindrome(s):\n",
    "    s = list(s) \n",
    "    n = len(s)\n",
    "    \n",
    "    left, right = 0, n - 1\n",
    "    while left <= right:\n",
    "        if s[left] == '?' and s[right] == '?':\n",
    "            s[left] = s[right] = 'a'\n",
    "        elif s[left] == '?':\n",
    "            s[left] = s[right]\n",
    "        elif s[right] == '?':\n",
    "            s[right] = s[left]\n",
    "        elif s[left] != s[right]:\n",
    "            return \"-1\"\n",
    "        left += 1\n",
    "        right -= 1\n",
    "    \n",
    "    return \"\".join(s)\n",
    "\n",
    "s = input()\n",
    "output = make_smallest_palindrome(s)\n",
    "print(output)\n"
   ]
  },
  {
   "cell_type": "code",
   "execution_count": null,
   "id": "afc1b113-ba9c-4b9f-8176-69440e01ef61",
   "metadata": {},
   "outputs": [],
   "source": []
  }
 ],
 "metadata": {
  "kernelspec": {
   "display_name": "Python 3 (ipykernel)",
   "language": "python",
   "name": "python3"
  },
  "language_info": {
   "codemirror_mode": {
    "name": "ipython",
    "version": 3
   },
   "file_extension": ".py",
   "mimetype": "text/x-python",
   "name": "python",
   "nbconvert_exporter": "python",
   "pygments_lexer": "ipython3",
   "version": "3.11.5"
  }
 },
 "nbformat": 4,
 "nbformat_minor": 5
}
