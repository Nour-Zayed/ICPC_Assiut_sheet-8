{
 "cells": [
  {
   "cell_type": "code",
   "execution_count": 11,
   "id": "c1b595ca-d033-4ca9-9a89-ca3ed164c424",
   "metadata": {},
   "outputs": [
    {
     "name": "stdin",
     "output_type": "stream",
     "text": [
      " 3\n",
      " 1\n",
      " 5\n",
      " 7\n"
     ]
    },
    {
     "name": "stdout",
     "output_type": "stream",
     "text": [
      "not prime\n",
      "prime\n",
      "not prime\n"
     ]
    }
   ],
   "source": [
    "import math\n",
    "\n",
    "fib = [0] * 51\n",
    "fib[1] = 0  \n",
    "fib[2] = 1  \n",
    "\n",
    "for i in range(3, 51):\n",
    "    fib[i] = fib[i - 1] + fib[i - 2]\n",
    "\n",
    "prime_status = [\"not prime\"] * 51\n",
    "\n",
    "for i in range(1, 51):\n",
    "    num = fib[i]\n",
    "    if num > 1: \n",
    "        is_prime = True\n",
    "        if num == 2 or num == 3:\n",
    "            is_prime = True\n",
    "        elif num % 2 == 0 or num % 3 == 0:\n",
    "            is_prime = False\n",
    "        else:\n",
    "            for j in range(5, int(math.sqrt(num)) + 1, 6):\n",
    "                if num % j == 0 or num % (j + 2) == 0:\n",
    "                    is_prime = False\n",
    "                    break\n",
    "        if is_prime:\n",
    "            prime_status[i] = \"prime\"\n",
    "\n",
    "T = int(input())  \n",
    "results = []\n",
    "\n",
    "for _ in range(T):\n",
    "    N = int(input())\n",
    "    results.append(prime_status[N])\n",
    "\n",
    "print(\"\\n\".join(results))\n"
   ]
  },
  {
   "cell_type": "code",
   "execution_count": null,
   "id": "c0aa84de-56c2-4cd8-b0f4-cc83465af73c",
   "metadata": {},
   "outputs": [],
   "source": []
  }
 ],
 "metadata": {
  "kernelspec": {
   "display_name": "Python 3 (ipykernel)",
   "language": "python",
   "name": "python3"
  },
  "language_info": {
   "codemirror_mode": {
    "name": "ipython",
    "version": 3
   },
   "file_extension": ".py",
   "mimetype": "text/x-python",
   "name": "python",
   "nbconvert_exporter": "python",
   "pygments_lexer": "ipython3",
   "version": "3.11.5"
  }
 },
 "nbformat": 4,
 "nbformat_minor": 5
}
