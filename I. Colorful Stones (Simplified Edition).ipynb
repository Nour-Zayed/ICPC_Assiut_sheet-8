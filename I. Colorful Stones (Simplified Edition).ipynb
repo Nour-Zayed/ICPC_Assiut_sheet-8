{
 "cells": [
  {
   "cell_type": "code",
   "execution_count": 8,
   "id": "affcd720-8878-4894-bf62-33d60d1b7196",
   "metadata": {},
   "outputs": [
    {
     "name": "stdin",
     "output_type": "stream",
     "text": [
      " BRRBGBRGRBGRGRRGGBGBGBRGBRGRGGGRBRRRBRBBBGRRRGGBBB\n",
      " BBRBGGRGRGBBBRBGRBRBBBBRBRRRBGBBGBBRRBBGGRBRRBRGRB\n"
     ]
    },
    {
     "name": "stdout",
     "output_type": "stream",
     "text": [
      "15\n"
     ]
    }
   ],
   "source": [
    "val1=input().strip()\n",
    "val2=input().strip()\n",
    "\n",
    "count =0\n",
    "for i in range (len(val2)):\n",
    "\n",
    "    if val1[count] == val2[i]:\n",
    "        count +=1\n",
    "count +=1\n",
    "print(count)\n",
    "\n",
    "\n",
    "\n"
   ]
  },
  {
   "cell_type": "code",
   "execution_count": null,
   "id": "a3744a25-c245-4513-a063-92b6fec90d6e",
   "metadata": {},
   "outputs": [],
   "source": []
  }
 ],
 "metadata": {
  "kernelspec": {
   "display_name": "Python 3 (ipykernel)",
   "language": "python",
   "name": "python3"
  },
  "language_info": {
   "codemirror_mode": {
    "name": "ipython",
    "version": 3
   },
   "file_extension": ".py",
   "mimetype": "text/x-python",
   "name": "python",
   "nbconvert_exporter": "python",
   "pygments_lexer": "ipython3",
   "version": "3.11.5"
  }
 },
 "nbformat": 4,
 "nbformat_minor": 5
}
