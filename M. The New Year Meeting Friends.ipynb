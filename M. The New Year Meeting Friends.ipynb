{
 "cells": [
  {
   "cell_type": "code",
   "execution_count": 26,
   "id": "0bbd9fb4-9245-44c5-831c-58d1896a78e2",
   "metadata": {},
   "outputs": [
    {
     "name": "stdin",
     "output_type": "stream",
     "text": [
      " 30 20 10\n"
     ]
    },
    {
     "name": "stdout",
     "output_type": "stream",
     "text": [
      "20\n"
     ]
    }
   ],
   "source": [
    "arr = list(map(int, input().split())) \n",
    "arr1 = sorted(arr)  \n",
    "\n",
    "n = len(arr1)\n",
    "median = arr1[n // 2] \n",
    "\n",
    "summation = sum(abs(x - median) for x in arr1)\n",
    "\n",
    "print(summation)\n"
   ]
  },
  {
   "cell_type": "code",
   "execution_count": null,
   "id": "dbe398ed-6fcd-4c94-a402-ecce7b9fd5bf",
   "metadata": {},
   "outputs": [],
   "source": []
  }
 ],
 "metadata": {
  "kernelspec": {
   "display_name": "Python 3 (ipykernel)",
   "language": "python",
   "name": "python3"
  },
  "language_info": {
   "codemirror_mode": {
    "name": "ipython",
    "version": 3
   },
   "file_extension": ".py",
   "mimetype": "text/x-python",
   "name": "python",
   "nbconvert_exporter": "python",
   "pygments_lexer": "ipython3",
   "version": "3.11.5"
  }
 },
 "nbformat": 4,
 "nbformat_minor": 5
}
