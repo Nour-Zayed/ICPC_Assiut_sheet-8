{
 "cells": [
  {
   "cell_type": "code",
   "execution_count": 20,
   "id": "9816c335-5f73-45e1-aadd-cd7b20281aa1",
   "metadata": {},
   "outputs": [
    {
     "name": "stdin",
     "output_type": "stream",
     "text": [
      " -10\n"
     ]
    },
    {
     "name": "stdout",
     "output_type": "stream",
     "text": [
      "0\n"
     ]
    }
   ],
   "source": [
    "n = input().strip()\n",
    "\n",
    "option1 = int(n[:-1])\n",
    "\n",
    "option2 = int(n[:-2] + n[-1])\n",
    "\n",
    "result = max(int(n), option1, option2)\n",
    "\n",
    "print(result)\n"
   ]
  },
  {
   "cell_type": "code",
   "execution_count": null,
   "id": "96f5fba5-9e62-4e4e-bc5a-cec56dbfc8c9",
   "metadata": {},
   "outputs": [],
   "source": []
  }
 ],
 "metadata": {
  "kernelspec": {
   "display_name": "Python 3 (ipykernel)",
   "language": "python",
   "name": "python3"
  },
  "language_info": {
   "codemirror_mode": {
    "name": "ipython",
    "version": 3
   },
   "file_extension": ".py",
   "mimetype": "text/x-python",
   "name": "python",
   "nbconvert_exporter": "python",
   "pygments_lexer": "ipython3",
   "version": "3.11.5"
  }
 },
 "nbformat": 4,
 "nbformat_minor": 5
}
