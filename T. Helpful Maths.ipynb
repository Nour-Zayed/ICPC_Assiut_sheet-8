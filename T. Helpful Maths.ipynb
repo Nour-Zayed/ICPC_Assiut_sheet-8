{
 "cells": [
  {
   "cell_type": "code",
   "execution_count": 3,
   "id": "9ac5fd7b-179e-4f96-a541-c1b1471a50ff",
   "metadata": {},
   "outputs": [
    {
     "name": "stdin",
     "output_type": "stream",
     "text": [
      " 3+2+1\n"
     ]
    },
    {
     "name": "stdout",
     "output_type": "stream",
     "text": [
      "1+2+3\n"
     ]
    }
   ],
   "source": [
    "string=input()\n",
    "\n",
    "numbers=string.split('+')\n",
    "sort=sorted(numbers)\n",
    "\n",
    "print ('+'.join(sort))"
   ]
  },
  {
   "cell_type": "code",
   "execution_count": null,
   "id": "659831db-ff8a-4623-9159-414ff0606104",
   "metadata": {},
   "outputs": [],
   "source": [
    "\n"
   ]
  }
 ],
 "metadata": {
  "kernelspec": {
   "display_name": "Python 3 (ipykernel)",
   "language": "python",
   "name": "python3"
  },
  "language_info": {
   "codemirror_mode": {
    "name": "ipython",
    "version": 3
   },
   "file_extension": ".py",
   "mimetype": "text/x-python",
   "name": "python",
   "nbconvert_exporter": "python",
   "pygments_lexer": "ipython3",
   "version": "3.11.5"
  }
 },
 "nbformat": 4,
 "nbformat_minor": 5
}
