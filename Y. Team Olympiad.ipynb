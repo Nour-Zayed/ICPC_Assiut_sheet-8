{
 "cells": [
  {
   "cell_type": "code",
   "execution_count": 12,
   "id": "1913bab1-99fa-4e22-89c7-80c3d9237fe5",
   "metadata": {},
   "outputs": [
    {
     "name": "stdin",
     "output_type": "stream",
     "text": [
      " 7\n",
      " 1 3 1 3 2 1 2\n"
     ]
    },
    {
     "name": "stdout",
     "output_type": "stream",
     "text": [
      "2\n",
      "4 3 2\n",
      "6 5 4\n"
     ]
    }
   ],
   "source": [
    "def form_teams(students):\n",
    "  \"\"\"Forms teams of three students with different skills.\n",
    "\n",
    "  Args:\n",
    "    students: A list of integers representing the skills of students.\n",
    "\n",
    "  Returns:\n",
    "    A list of tuples, where each tuple represents a team.\n",
    "  \"\"\"\n",
    "\n",
    "  teams = []\n",
    "  counts = [0, 0, 0]  # Counts of programmers, mathematicians, and sportsmen\n",
    "\n",
    "  for i, student in enumerate(students):\n",
    "    counts[student - 1] += 1\n",
    "    if all(count >= 1 for count in counts):  # Check if we can form a team\n",
    "      teams.append((i, i - 1, i - 2))  # Correctly form the team based on indices\n",
    "      counts[student - 1] -= 1\n",
    "      counts[students[i - 1] - 1] -= 1\n",
    "      counts[students[i - 2] - 1] -= 1\n",
    "\n",
    "  return teams\n",
    "\n",
    "# Get input\n",
    "n = int(input())\n",
    "students = list(map(int, input().split()))\n",
    "\n",
    "# Form teams\n",
    "teams = form_teams(students)\n",
    "\n",
    "# Print the result\n",
    "print(len(teams))\n",
    "for team in teams:\n",
    "  print(*team)"
   ]
  },
  {
   "cell_type": "code",
   "execution_count": 7,
   "id": "7eacb586-3cff-4f6d-8218-65e2fe817cde",
   "metadata": {},
   "outputs": [
    {
     "ename": "SyntaxError",
     "evalue": "invalid syntax (372293785.py, line 2)",
     "output_type": "error",
     "traceback": [
      "\u001b[1;36m  Cell \u001b[1;32mIn[7], line 2\u001b[1;36m\u001b[0m\n\u001b[1;33m    3 5 2\u001b[0m\n\u001b[1;37m      ^\u001b[0m\n\u001b[1;31mSyntaxError\u001b[0m\u001b[1;31m:\u001b[0m invalid syntax\n"
     ]
    }
   ],
   "source": [
    "2\n",
    "3 5 2\n",
    "6 7 4"
   ]
  },
  {
   "cell_type": "code",
   "execution_count": 19,
   "id": "fd31b11a-025d-4d7d-876a-b762eb7d3dd0",
   "metadata": {},
   "outputs": [
    {
     "name": "stdin",
     "output_type": "stream",
     "text": [
      " 7\n",
      "  1 3 1 3 2 1 2\n"
     ]
    },
    {
     "name": "stdout",
     "output_type": "stream",
     "text": [
      "0\n"
     ]
    }
   ],
   "source": [
    "size=int(input())\n",
    "num = list(map(int, input().split()))\n",
    "arr1 = [0] * 50001\n",
    "arr2 = [0] * 50001\n",
    "arr3 = [0] * 50001\n",
    "\n",
    "a1=0\n",
    "a2=0\n",
    "a3=0\n",
    "\n",
    "for i in range (1,size+1):\n",
    "    if num ==1:\n",
    "        arr1[a1] =i\n",
    "        a1 +=1\n",
    "    elif num == 2 :\n",
    "        arr2[a2] =i\n",
    "        a2 +=1\n",
    "    else:\n",
    "        arr3[a3] =i\n",
    "        a3 +=1\n",
    "team =min(a1,min(a2,a3))\n",
    "print(team)\n",
    "for i in range (1 ,team +1):\n",
    "    print(arr1[i],arr2[i],arr3[i])\n"
   ]
  },
  {
   "cell_type": "code",
   "execution_count": 21,
   "id": "ed2b55a6-14a9-4f2c-be8a-086d0ba087ce",
   "metadata": {},
   "outputs": [
    {
     "name": "stdin",
     "output_type": "stream",
     "text": [
      " 7\n",
      " 1 3 1 3 2 1 2\n"
     ]
    },
    {
     "name": "stdout",
     "output_type": "stream",
     "text": [
      "2\n",
      "1 5 2\n",
      "3 7 4\n"
     ]
    }
   ],
   "source": [
    "size = int(input())\n",
    "num = list(map(int, input().split()))\n",
    "\n",
    "arr1 = [0] * 50001\n",
    "arr2 = [0] * 50001\n",
    "arr3 = [0] * 50001\n",
    "\n",
    "a1 = 0\n",
    "a2 = 0\n",
    "a3 = 0\n",
    "\n",
    "for i in range(1, size + 1):\n",
    "    if num[i-1] == 1:\n",
    "        arr1[a1] = i\n",
    "        a1 += 1\n",
    "    elif num[i-1] == 2:\n",
    "        arr2[a2] = i\n",
    "        a2 += 1\n",
    "    else:\n",
    "        arr3[a3] = i\n",
    "        a3 += 1\n",
    "\n",
    "team = min(a1, min(a2, a3))\n",
    "print(team)\n",
    "for i in range(0,team):\n",
    "    print(arr1[i], arr2[i], arr3[i])\n"
   ]
  },
  {
   "cell_type": "code",
   "execution_count": null,
   "id": "323dd84d-0ebb-4fc1-864b-ad8d0e37eef1",
   "metadata": {},
   "outputs": [],
   "source": [
    "2\n",
    "3 5 2\n",
    "6 7 4"
   ]
  }
 ],
 "metadata": {
  "kernelspec": {
   "display_name": "Python 3 (ipykernel)",
   "language": "python",
   "name": "python3"
  },
  "language_info": {
   "codemirror_mode": {
    "name": "ipython",
    "version": 3
   },
   "file_extension": ".py",
   "mimetype": "text/x-python",
   "name": "python",
   "nbconvert_exporter": "python",
   "pygments_lexer": "ipython3",
   "version": "3.11.5"
  }
 },
 "nbformat": 4,
 "nbformat_minor": 5
}
