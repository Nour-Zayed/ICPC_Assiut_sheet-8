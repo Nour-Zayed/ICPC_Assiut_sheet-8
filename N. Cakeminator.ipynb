{
 "cells": [
  {
   "cell_type": "code",
   "execution_count": 6,
   "id": "0bbfa357-f266-4ca4-ae74-b76428183a81",
   "metadata": {},
   "outputs": [
    {
     "name": "stdin",
     "output_type": "stream",
     "text": [
      " 3 4\n",
      " S...\n",
      " ....\n",
      " ..S.\n"
     ]
    },
    {
     "name": "stdout",
     "output_type": "stream",
     "text": [
      "8\n"
     ]
    }
   ],
   "source": [
    "def cakeminator(r, c, grid):\n",
    "    eaten = [[False] * c for _ in range(r)]\n",
    "    \n",
    "    for i in range(r):\n",
    "        if 'S' not in grid[i]:\n",
    "            for j in range(c):\n",
    "                eaten[i][j] = True\n",
    "    \n",
    "    for j in range(c):\n",
    "        if all(grid[i][j] != 'S' for i in range(r)):\n",
    "            for i in range(r):\n",
    "                eaten[i][j] = True\n",
    "    \n",
    "    result = sum(sum(row) for row in eaten)\n",
    "    \n",
    "    return result\n",
    "\n",
    "r, c = map(int, input().split())\n",
    "\n",
    "grid = []\n",
    "\n",
    "for _ in range(r):\n",
    "    grid.append(input().strip())\n",
    "\n",
    "print(cakeminator(r, c, grid))\n"
   ]
  },
  {
   "cell_type": "code",
   "execution_count": null,
   "id": "896015eb-9a58-4c19-a439-ab21dc7f837b",
   "metadata": {},
   "outputs": [],
   "source": []
  }
 ],
 "metadata": {
  "kernelspec": {
   "display_name": "Python 3 (ipykernel)",
   "language": "python",
   "name": "python3"
  },
  "language_info": {
   "codemirror_mode": {
    "name": "ipython",
    "version": 3
   },
   "file_extension": ".py",
   "mimetype": "text/x-python",
   "name": "python",
   "nbconvert_exporter": "python",
   "pygments_lexer": "ipython3",
   "version": "3.11.5"
  }
 },
 "nbformat": 4,
 "nbformat_minor": 5
}
