{
 "cells": [
  {
   "cell_type": "code",
   "execution_count": 1,
   "id": "dd5b4fd4-9c6b-43b2-9d76-25e4a07a5656",
   "metadata": {},
   "outputs": [
    {
     "name": "stdin",
     "output_type": "stream",
     "text": [
      " 7\n",
      " 10 10 58 31 63 40 76\n"
     ]
    },
    {
     "name": "stdout",
     "output_type": "stream",
     "text": [
      "10\n"
     ]
    }
   ],
   "source": [
    "def minimum_swaps(n, heights):\n",
    "    max_height = max(heights)\n",
    "    min_height = min(heights)\n",
    "    \n",
    "    max_index = heights.index(max_height)  \n",
    "    min_index = len(heights) - 1 - heights[::-1].index(min_height)  \n",
    "    \n",
    "    if max_index > min_index:\n",
    "        total_swaps = max_index + (n - 1 - min_index) - 1\n",
    "    else:\n",
    "        total_swaps = max_index + (n - 1 - min_index)\n",
    "    \n",
    "    return total_swaps\n",
    "\n",
    "n = int(input())\n",
    "heights = list(map(int, input().split()))\n",
    "print(minimum_swaps(n, heights))\n"
   ]
  },
  {
   "cell_type": "code",
   "execution_count": null,
   "id": "bf738f8c-a4e1-42a6-94a2-79135d8dc31a",
   "metadata": {},
   "outputs": [],
   "source": []
  }
 ],
 "metadata": {
  "kernelspec": {
   "display_name": "Python 3 (ipykernel)",
   "language": "python",
   "name": "python3"
  },
  "language_info": {
   "codemirror_mode": {
    "name": "ipython",
    "version": 3
   },
   "file_extension": ".py",
   "mimetype": "text/x-python",
   "name": "python",
   "nbconvert_exporter": "python",
   "pygments_lexer": "ipython3",
   "version": "3.11.5"
  }
 },
 "nbformat": 4,
 "nbformat_minor": 5
}
