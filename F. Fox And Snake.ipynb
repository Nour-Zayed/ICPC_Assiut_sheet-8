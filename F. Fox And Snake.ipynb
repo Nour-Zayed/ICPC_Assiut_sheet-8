{
 "cells": [
  {
   "cell_type": "code",
   "execution_count": 10,
   "id": "c39f9dbf-c017-4ac9-b82d-e6d2ca1b598d",
   "metadata": {},
   "outputs": [
    {
     "name": "stdin",
     "output_type": "stream",
     "text": [
      " 9 9\n"
     ]
    },
    {
     "name": "stdout",
     "output_type": "stream",
     "text": [
      "#########\n",
      "........#\n",
      "#########\n",
      "#........\n",
      "#########\n",
      "........#\n",
      "#########\n",
      "#........\n",
      "#########\n"
     ]
    }
   ],
   "source": [
    "x, y = map(int, input().split())\n",
    "\n",
    "for i in range(x):\n",
    "    if i % 2 == 0:\n",
    "        print('#' * y)\n",
    "    else:\n",
    "        if (i // 2) % 2 == 0:\n",
    "            print('.' * (y - 1) + '#')\n",
    "        else:\n",
    "            print('#' + '.' * (y - 1))"
   ]
  },
  {
   "cell_type": "code",
   "execution_count": null,
   "id": "403f44ba-8ded-4336-b55c-bda95ab5ca83",
   "metadata": {},
   "outputs": [],
   "source": []
  }
 ],
 "metadata": {
  "kernelspec": {
   "display_name": "Python 3 (ipykernel)",
   "language": "python",
   "name": "python3"
  },
  "language_info": {
   "codemirror_mode": {
    "name": "ipython",
    "version": 3
   },
   "file_extension": ".py",
   "mimetype": "text/x-python",
   "name": "python",
   "nbconvert_exporter": "python",
   "pygments_lexer": "ipython3",
   "version": "3.11.5"
  }
 },
 "nbformat": 4,
 "nbformat_minor": 5
}
