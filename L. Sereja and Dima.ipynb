{
 "cells": [
  {
   "cell_type": "code",
   "execution_count": 11,
   "id": "d24d1e49-942f-4d5f-a091-7804fd8917d0",
   "metadata": {},
   "outputs": [
    {
     "name": "stdin",
     "output_type": "stream",
     "text": [
      " 7\n",
      " 1 2 3 4 5 6 7\n"
     ]
    },
    {
     "name": "stdout",
     "output_type": "stream",
     "text": [
      "16 12\n"
     ]
    }
   ],
   "source": [
    "x = int(input())\n",
    "array = list(map(int, input().split()))\n",
    "\n",
    "arr1 = 0  \n",
    "arr2 = 0  \n",
    "\n",
    "turn = True  \n",
    "\n",
    "while len(array) > 0:\n",
    "    if array[0] > array[-1]:\n",
    "        chosen_card = array.pop(0) \n",
    "    else:\n",
    "        chosen_card = array.pop()  \n",
    "    \n",
    "    if turn:\n",
    "        arr1 += chosen_card  \n",
    "    else:\n",
    "        arr2 += chosen_card  \n",
    "    \n",
    "    turn = not turn  \n",
    "print(arr1, arr2)\n"
   ]
  },
  {
   "cell_type": "code",
   "execution_count": null,
   "id": "95bddc26-c6ba-4fc6-a334-836aaac10303",
   "metadata": {},
   "outputs": [],
   "source": []
  }
 ],
 "metadata": {
  "kernelspec": {
   "display_name": "Python 3 (ipykernel)",
   "language": "python",
   "name": "python3"
  },
  "language_info": {
   "codemirror_mode": {
    "name": "ipython",
    "version": 3
   },
   "file_extension": ".py",
   "mimetype": "text/x-python",
   "name": "python",
   "nbconvert_exporter": "python",
   "pygments_lexer": "ipython3",
   "version": "3.11.5"
  }
 },
 "nbformat": 4,
 "nbformat_minor": 5
}
