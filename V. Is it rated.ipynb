{
 "cells": [
  {
   "cell_type": "code",
   "execution_count": 2,
   "id": "0ce5d091-81be-4030-9f09-8545ed65a538",
   "metadata": {},
   "outputs": [
    {
     "name": "stdin",
     "output_type": "stream",
     "text": [
      " 5\n",
      " 3123 3123\n",
      " 2777 2777\n",
      " 2246 2246\n",
      " 2246 2246\n",
      " 1699 1699\n"
     ]
    },
    {
     "name": "stdout",
     "output_type": "stream",
     "text": [
      "maybe\n"
     ]
    }
   ],
   "source": [
    "n = int(input()) \n",
    "ratings = [tuple(map(int, input().split())) for _ in range(n)]\n",
    "\n",
    "rated = False\n",
    "unrated = False\n",
    "\n",
    "for i in range(n):\n",
    "    ai, bi = ratings[i]\n",
    "    \n",
    "    if ai != bi:\n",
    "        rated = True\n",
    "    \n",
    "    if i > 0 and ratings[i-1][0] < ai:\n",
    "        unrated = True\n",
    "\n",
    "if rated:\n",
    "    print(\"rated\")\n",
    "elif unrated:\n",
    "    print(\"unrated\")\n",
    "else:\n",
    "    print(\"maybe\")\n"
   ]
  }
 ],
 "metadata": {
  "kernelspec": {
   "display_name": "Python 3 (ipykernel)",
   "language": "python",
   "name": "python3"
  },
  "language_info": {
   "codemirror_mode": {
    "name": "ipython",
    "version": 3
   },
   "file_extension": ".py",
   "mimetype": "text/x-python",
   "name": "python",
   "nbconvert_exporter": "python",
   "pygments_lexer": "ipython3",
   "version": "3.11.5"
  }
 },
 "nbformat": 4,
 "nbformat_minor": 5
}
